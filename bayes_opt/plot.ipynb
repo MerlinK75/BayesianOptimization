{
 "cells": [
  {
   "cell_type": "code",
   "execution_count": 6,
   "metadata": {},
   "outputs": [],
   "source": [
    "# Import necessary libraries\n",
    "import matplotlib.pyplot as plt\n",
    "import pickle\n",
    "import os\n",
    "from numpy.random import RandomState\n",
    "\n",
    "\n",
    "# Load the Gaussian Process model from a .pkl file\n",
    "Pgp_list = []\n",
    "_path = 'C:/Users/Merlin/Documents/GitHub/BayesianOptimization/Population_models'\n",
    "gp_files = [f for f in os.listdir(_path) if f.startswith('GP') and f.endswith('.pkl')]\n",
    "gp_files.sort(key=lambda x: int(x[2:-4]))  # Sort files by number\n",
    "for gp_file in gp_files:\n",
    "    with open(os.path.join(_path, gp_file), 'rb') as file:\n",
    "        Pgp_list.append(pickle.load(file))"
   ]
  },
  {
   "cell_type": "code",
   "execution_count": null,
   "metadata": {},
   "outputs": [],
   "source": [
    "random_state = RandomState()\n",
    "x_tries = random_state.uniform(bounds[:, 0], bounds[:, 1], size=(n_random, bounds.shape[0]))\n",
    "for i, gps in enumerate(Pgp_list):\n",
    "    y = gps.predict(x)  # Assuming your Gaussian Process has a predict method\n",
    "\n",
    "# Plotting the results\n",
    "plt.figure(figsize=(10, 6))\n",
    "plt.plot(x, y, label='Gaussian Process Prediction')\n",
    "plt.title('Gaussian Process Regression')\n",
    "plt.xlabel('Input')\n",
    "plt.ylabel('Output')\n",
    "plt.legend()\n",
    "plt.show()"
   ]
  }
 ],
 "metadata": {
  "kernelspec": {
   "display_name": "Python 3",
   "language": "python",
   "name": "python3"
  },
  "language_info": {
   "codemirror_mode": {
    "name": "ipython",
    "version": 3
   },
   "file_extension": ".py",
   "mimetype": "text/x-python",
   "name": "python",
   "nbconvert_exporter": "python",
   "pygments_lexer": "ipython3",
   "version": "3.12.6"
  }
 },
 "nbformat": 4,
 "nbformat_minor": 2
}
